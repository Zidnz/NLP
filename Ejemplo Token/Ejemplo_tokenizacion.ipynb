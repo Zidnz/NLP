{
  "nbformat": 4,
  "nbformat_minor": 0,
  "metadata": {
    "colab": {
      "provenance": []
    },
    "kernelspec": {
      "name": "python3",
      "display_name": "Python 3"
    },
    "language_info": {
      "name": "python"
    }
  },
  "cells": [
    {
      "cell_type": "markdown",
      "source": [
        "##Tokenizacion"
      ],
      "metadata": {
        "id": "bsj1Ld_iCPPP"
      }
    },
    {
      "cell_type": "code",
      "execution_count": 1,
      "metadata": {
        "colab": {
          "base_uri": "https://localhost:8080/"
        },
        "id": "LhaC1ZD0CKx4",
        "outputId": "8c1e3d8d-8043-43ea-c94d-15b86e28e55e"
      },
      "outputs": [
        {
          "output_type": "stream",
          "name": "stdout",
          "text": [
            "\n",
            "Usage:   \n",
            "  pip3 install [options] <requirement specifier> [package-index-options] ...\n",
            "  pip3 install [options] -r <requirements file> [package-index-options] ...\n",
            "  pip3 install [options] [-e] <vcs project url> ...\n",
            "  pip3 install [options] [-e] <local project path> ...\n",
            "  pip3 install [options] <archive url/path> ...\n",
            "\n",
            "no such option: -u\n"
          ]
        }
      ],
      "source": [
        "!pip install  -u scikit-learn"
      ]
    },
    {
      "cell_type": "code",
      "source": [
        "import pandas as pd"
      ],
      "metadata": {
        "id": "9hmcdRKKCT5m"
      },
      "execution_count": 2,
      "outputs": []
    },
    {
      "cell_type": "code",
      "source": [
        "df = pd.read_csv('/content/df_total[1].csv', encoding='UTF-8')"
      ],
      "metadata": {
        "id": "94rZRLeQCV0I"
      },
      "execution_count": 6,
      "outputs": []
    },
    {
      "cell_type": "code",
      "source": [
        "df.head()"
      ],
      "metadata": {
        "colab": {
          "base_uri": "https://localhost:8080/",
          "height": 449
        },
        "id": "Ax0HqwoHCx6I",
        "outputId": "e00070c7-2ff3-4901-b48f-5da23e84a2e8"
      },
      "execution_count": 9,
      "outputs": [
        {
          "output_type": "execute_result",
          "data": {
            "text/plain": [
              "                                                url  \\\n",
              "0  https://www.larepublica.co/redirect/post/3201905   \n",
              "1  https://www.larepublica.co/redirect/post/3210288   \n",
              "2  https://www.larepublica.co/redirect/post/3240676   \n",
              "3  https://www.larepublica.co/redirect/post/3342889   \n",
              "4  https://www.larepublica.co/redirect/post/3427208   \n",
              "\n",
              "                                                news           Type  \n",
              "0  Durante el foro La banca articulador empresari...           Otra  \n",
              "1  El regulador de valores de China dijo el domin...   Regulaciones  \n",
              "2  En una industria históricamente masculina como...       Alianzas  \n",
              "3  Con el dato de marzo el IPC interanual encaden...  Macroeconomia  \n",
              "4  Ayer en Cartagena se dio inicio a la versión n...           Otra  "
            ],
            "text/html": [
              "\n",
              "  <div id=\"df-5ed84748-d53a-4156-ae99-13f54f73a3eb\" class=\"colab-df-container\">\n",
              "    <div>\n",
              "<style scoped>\n",
              "    .dataframe tbody tr th:only-of-type {\n",
              "        vertical-align: middle;\n",
              "    }\n",
              "\n",
              "    .dataframe tbody tr th {\n",
              "        vertical-align: top;\n",
              "    }\n",
              "\n",
              "    .dataframe thead th {\n",
              "        text-align: right;\n",
              "    }\n",
              "</style>\n",
              "<table border=\"1\" class=\"dataframe\">\n",
              "  <thead>\n",
              "    <tr style=\"text-align: right;\">\n",
              "      <th></th>\n",
              "      <th>url</th>\n",
              "      <th>news</th>\n",
              "      <th>Type</th>\n",
              "    </tr>\n",
              "  </thead>\n",
              "  <tbody>\n",
              "    <tr>\n",
              "      <th>0</th>\n",
              "      <td>https://www.larepublica.co/redirect/post/3201905</td>\n",
              "      <td>Durante el foro La banca articulador empresari...</td>\n",
              "      <td>Otra</td>\n",
              "    </tr>\n",
              "    <tr>\n",
              "      <th>1</th>\n",
              "      <td>https://www.larepublica.co/redirect/post/3210288</td>\n",
              "      <td>El regulador de valores de China dijo el domin...</td>\n",
              "      <td>Regulaciones</td>\n",
              "    </tr>\n",
              "    <tr>\n",
              "      <th>2</th>\n",
              "      <td>https://www.larepublica.co/redirect/post/3240676</td>\n",
              "      <td>En una industria históricamente masculina como...</td>\n",
              "      <td>Alianzas</td>\n",
              "    </tr>\n",
              "    <tr>\n",
              "      <th>3</th>\n",
              "      <td>https://www.larepublica.co/redirect/post/3342889</td>\n",
              "      <td>Con el dato de marzo el IPC interanual encaden...</td>\n",
              "      <td>Macroeconomia</td>\n",
              "    </tr>\n",
              "    <tr>\n",
              "      <th>4</th>\n",
              "      <td>https://www.larepublica.co/redirect/post/3427208</td>\n",
              "      <td>Ayer en Cartagena se dio inicio a la versión n...</td>\n",
              "      <td>Otra</td>\n",
              "    </tr>\n",
              "  </tbody>\n",
              "</table>\n",
              "</div>\n",
              "    <div class=\"colab-df-buttons\">\n",
              "\n",
              "  <div class=\"colab-df-container\">\n",
              "    <button class=\"colab-df-convert\" onclick=\"convertToInteractive('df-5ed84748-d53a-4156-ae99-13f54f73a3eb')\"\n",
              "            title=\"Convert this dataframe to an interactive table.\"\n",
              "            style=\"display:none;\">\n",
              "\n",
              "  <svg xmlns=\"http://www.w3.org/2000/svg\" height=\"24px\" viewBox=\"0 -960 960 960\">\n",
              "    <path d=\"M120-120v-720h720v720H120Zm60-500h600v-160H180v160Zm220 220h160v-160H400v160Zm0 220h160v-160H400v160ZM180-400h160v-160H180v160Zm440 0h160v-160H620v160ZM180-180h160v-160H180v160Zm440 0h160v-160H620v160Z\"/>\n",
              "  </svg>\n",
              "    </button>\n",
              "\n",
              "  <style>\n",
              "    .colab-df-container {\n",
              "      display:flex;\n",
              "      gap: 12px;\n",
              "    }\n",
              "\n",
              "    .colab-df-convert {\n",
              "      background-color: #E8F0FE;\n",
              "      border: none;\n",
              "      border-radius: 50%;\n",
              "      cursor: pointer;\n",
              "      display: none;\n",
              "      fill: #1967D2;\n",
              "      height: 32px;\n",
              "      padding: 0 0 0 0;\n",
              "      width: 32px;\n",
              "    }\n",
              "\n",
              "    .colab-df-convert:hover {\n",
              "      background-color: #E2EBFA;\n",
              "      box-shadow: 0px 1px 2px rgba(60, 64, 67, 0.3), 0px 1px 3px 1px rgba(60, 64, 67, 0.15);\n",
              "      fill: #174EA6;\n",
              "    }\n",
              "\n",
              "    .colab-df-buttons div {\n",
              "      margin-bottom: 4px;\n",
              "    }\n",
              "\n",
              "    [theme=dark] .colab-df-convert {\n",
              "      background-color: #3B4455;\n",
              "      fill: #D2E3FC;\n",
              "    }\n",
              "\n",
              "    [theme=dark] .colab-df-convert:hover {\n",
              "      background-color: #434B5C;\n",
              "      box-shadow: 0px 1px 3px 1px rgba(0, 0, 0, 0.15);\n",
              "      filter: drop-shadow(0px 1px 2px rgba(0, 0, 0, 0.3));\n",
              "      fill: #FFFFFF;\n",
              "    }\n",
              "  </style>\n",
              "\n",
              "    <script>\n",
              "      const buttonEl =\n",
              "        document.querySelector('#df-5ed84748-d53a-4156-ae99-13f54f73a3eb button.colab-df-convert');\n",
              "      buttonEl.style.display =\n",
              "        google.colab.kernel.accessAllowed ? 'block' : 'none';\n",
              "\n",
              "      async function convertToInteractive(key) {\n",
              "        const element = document.querySelector('#df-5ed84748-d53a-4156-ae99-13f54f73a3eb');\n",
              "        const dataTable =\n",
              "          await google.colab.kernel.invokeFunction('convertToInteractive',\n",
              "                                                    [key], {});\n",
              "        if (!dataTable) return;\n",
              "\n",
              "        const docLinkHtml = 'Like what you see? Visit the ' +\n",
              "          '<a target=\"_blank\" href=https://colab.research.google.com/notebooks/data_table.ipynb>data table notebook</a>'\n",
              "          + ' to learn more about interactive tables.';\n",
              "        element.innerHTML = '';\n",
              "        dataTable['output_type'] = 'display_data';\n",
              "        await google.colab.output.renderOutput(dataTable, element);\n",
              "        const docLink = document.createElement('div');\n",
              "        docLink.innerHTML = docLinkHtml;\n",
              "        element.appendChild(docLink);\n",
              "      }\n",
              "    </script>\n",
              "  </div>\n",
              "\n",
              "\n",
              "    <div id=\"df-5e4098bf-82ad-4bf0-9f90-e004ee6945ea\">\n",
              "      <button class=\"colab-df-quickchart\" onclick=\"quickchart('df-5e4098bf-82ad-4bf0-9f90-e004ee6945ea')\"\n",
              "                title=\"Suggest charts\"\n",
              "                style=\"display:none;\">\n",
              "\n",
              "<svg xmlns=\"http://www.w3.org/2000/svg\" height=\"24px\"viewBox=\"0 0 24 24\"\n",
              "     width=\"24px\">\n",
              "    <g>\n",
              "        <path d=\"M19 3H5c-1.1 0-2 .9-2 2v14c0 1.1.9 2 2 2h14c1.1 0 2-.9 2-2V5c0-1.1-.9-2-2-2zM9 17H7v-7h2v7zm4 0h-2V7h2v10zm4 0h-2v-4h2v4z\"/>\n",
              "    </g>\n",
              "</svg>\n",
              "      </button>\n",
              "\n",
              "<style>\n",
              "  .colab-df-quickchart {\n",
              "      --bg-color: #E8F0FE;\n",
              "      --fill-color: #1967D2;\n",
              "      --hover-bg-color: #E2EBFA;\n",
              "      --hover-fill-color: #174EA6;\n",
              "      --disabled-fill-color: #AAA;\n",
              "      --disabled-bg-color: #DDD;\n",
              "  }\n",
              "\n",
              "  [theme=dark] .colab-df-quickchart {\n",
              "      --bg-color: #3B4455;\n",
              "      --fill-color: #D2E3FC;\n",
              "      --hover-bg-color: #434B5C;\n",
              "      --hover-fill-color: #FFFFFF;\n",
              "      --disabled-bg-color: #3B4455;\n",
              "      --disabled-fill-color: #666;\n",
              "  }\n",
              "\n",
              "  .colab-df-quickchart {\n",
              "    background-color: var(--bg-color);\n",
              "    border: none;\n",
              "    border-radius: 50%;\n",
              "    cursor: pointer;\n",
              "    display: none;\n",
              "    fill: var(--fill-color);\n",
              "    height: 32px;\n",
              "    padding: 0;\n",
              "    width: 32px;\n",
              "  }\n",
              "\n",
              "  .colab-df-quickchart:hover {\n",
              "    background-color: var(--hover-bg-color);\n",
              "    box-shadow: 0 1px 2px rgba(60, 64, 67, 0.3), 0 1px 3px 1px rgba(60, 64, 67, 0.15);\n",
              "    fill: var(--button-hover-fill-color);\n",
              "  }\n",
              "\n",
              "  .colab-df-quickchart-complete:disabled,\n",
              "  .colab-df-quickchart-complete:disabled:hover {\n",
              "    background-color: var(--disabled-bg-color);\n",
              "    fill: var(--disabled-fill-color);\n",
              "    box-shadow: none;\n",
              "  }\n",
              "\n",
              "  .colab-df-spinner {\n",
              "    border: 2px solid var(--fill-color);\n",
              "    border-color: transparent;\n",
              "    border-bottom-color: var(--fill-color);\n",
              "    animation:\n",
              "      spin 1s steps(1) infinite;\n",
              "  }\n",
              "\n",
              "  @keyframes spin {\n",
              "    0% {\n",
              "      border-color: transparent;\n",
              "      border-bottom-color: var(--fill-color);\n",
              "      border-left-color: var(--fill-color);\n",
              "    }\n",
              "    20% {\n",
              "      border-color: transparent;\n",
              "      border-left-color: var(--fill-color);\n",
              "      border-top-color: var(--fill-color);\n",
              "    }\n",
              "    30% {\n",
              "      border-color: transparent;\n",
              "      border-left-color: var(--fill-color);\n",
              "      border-top-color: var(--fill-color);\n",
              "      border-right-color: var(--fill-color);\n",
              "    }\n",
              "    40% {\n",
              "      border-color: transparent;\n",
              "      border-right-color: var(--fill-color);\n",
              "      border-top-color: var(--fill-color);\n",
              "    }\n",
              "    60% {\n",
              "      border-color: transparent;\n",
              "      border-right-color: var(--fill-color);\n",
              "    }\n",
              "    80% {\n",
              "      border-color: transparent;\n",
              "      border-right-color: var(--fill-color);\n",
              "      border-bottom-color: var(--fill-color);\n",
              "    }\n",
              "    90% {\n",
              "      border-color: transparent;\n",
              "      border-bottom-color: var(--fill-color);\n",
              "    }\n",
              "  }\n",
              "</style>\n",
              "\n",
              "      <script>\n",
              "        async function quickchart(key) {\n",
              "          const quickchartButtonEl =\n",
              "            document.querySelector('#' + key + ' button');\n",
              "          quickchartButtonEl.disabled = true;  // To prevent multiple clicks.\n",
              "          quickchartButtonEl.classList.add('colab-df-spinner');\n",
              "          try {\n",
              "            const charts = await google.colab.kernel.invokeFunction(\n",
              "                'suggestCharts', [key], {});\n",
              "          } catch (error) {\n",
              "            console.error('Error during call to suggestCharts:', error);\n",
              "          }\n",
              "          quickchartButtonEl.classList.remove('colab-df-spinner');\n",
              "          quickchartButtonEl.classList.add('colab-df-quickchart-complete');\n",
              "        }\n",
              "        (() => {\n",
              "          let quickchartButtonEl =\n",
              "            document.querySelector('#df-5e4098bf-82ad-4bf0-9f90-e004ee6945ea button');\n",
              "          quickchartButtonEl.style.display =\n",
              "            google.colab.kernel.accessAllowed ? 'block' : 'none';\n",
              "        })();\n",
              "      </script>\n",
              "    </div>\n",
              "\n",
              "    </div>\n",
              "  </div>\n"
            ],
            "application/vnd.google.colaboratory.intrinsic+json": {
              "type": "dataframe",
              "variable_name": "df",
              "summary": "{\n  \"name\": \"df\",\n  \"rows\": 1217,\n  \"fields\": [\n    {\n      \"column\": \"url\",\n      \"properties\": {\n        \"dtype\": \"string\",\n        \"num_unique_values\": 1101,\n        \"samples\": [\n          \"https://www.bbva.com/es/sostenibilidad/por-la-tierra-por-el-mundo-por-todos-un-dia-y-una-sola-tierra/\",\n          \"https://www.larepublica.co/redirect/post/3307565\",\n          \"https://www.bbva.com/es/ar/bbva-ofrece-una-amplia-variedad-de-productos-y-servicios-agropecuarios-en-expoagro/\"\n        ],\n        \"semantic_type\": \"\",\n        \"description\": \"\"\n      }\n    },\n    {\n      \"column\": \"news\",\n      \"properties\": {\n        \"dtype\": \"string\",\n        \"num_unique_values\": 1138,\n        \"samples\": [\n          \"Se anunci\\u00f3 una alianza estrat\\u00e9gica entre la fintech de soluciones financieras Omni Latam y JP Morgan para crear una plataforma que brinde soluciones financieras digitales para grandes empresas y pyme garantiz\\u00e1ndoles liquidez y acceso a capital de trabajo.La iniciativa busca proteger la cadena de suministro de los compradores frente a cualquier necesidad crediticia y desajuste de financiaci\\u00f3n. Se asegurar\\u00e1 que los proveedores tengan acceso a un programa de pagos anticipados de facturas.Con esta alianza combinamos las s\\u00f3lidas capacidades financieras de J.P. Morgan en Am\\u00e9rica Latina y la innovaci\\u00f3n tecnol\\u00f3gica de Omni Latam al servicio de las empresas proporcionando alternativas hechas a la medida de nuestros clientes que se adaptan tanto a compradores como a proveedores. El objetivo es facilitar el acceso al capital de trabajo adicional que necesitan para escalar sus negocios mejorando la estabilidad de la cadena de suministro as\\u00ed como su relaci\\u00f3n y reputaci\\u00f3n en el mercado dijo Diego Caicedo CEO  Cofundador de Omni Latam.Se espera que el acuerdo acelere la participaci\\u00f3n de JP Morgan en la regi\\u00f3n. La compa\\u00f1\\u00eda ya procesa cerca de 40 millones de transacciones diarias siendo el principal liquidador de d\\u00f3lares del mundo.Buscamos solventar las necesidades de los empresarios latinoamericanos por medio de soluciones de financiaci\\u00f3n de la cadena de suministro. Creemos que somos los mejor posicionados para atender esas necesidades de la mano de Omni Latam dijo Ignacio Munoz De Cote director de pagos para Latinoam\\u00e9rica en JP Morgan.\",\n          \"\\u00bfSon los filtros del agua realmente necesarios donde el acceso al agua potable est\\u00e1 garantizado? \\u00bfTienen beneficios para la salud y el medioambiente? Mientras en lugares sin agua potable, los filtros pueden significar una aut\\u00e9ntica revoluci\\u00f3n; en los hogares con agua de grifo potable, hay que tener en cuenta para qu\\u00e9 vas a utilizar las distintas tecnolog\\u00edas de filtrado. Importante: los filtros ayudan a solucionar el desaf\\u00edo del agua embotellada en pl\\u00e1stico, lo que contribuye con la sostenibilidad.\\r\\nTres \\u00e1tomos forman una mol\\u00e9cula sencilla. Dos hidr\\u00f3genos y un ox\\u00edgeno est\\u00e1n en la base de la revoluci\\u00f3n de la vida en nuestro planeta. Sin el agua no existir\\u00eda nada de lo que conocemos. Y, sin embargo, cuando abrimos el grifo y la dejamos correr no pensamos en esto. Lo damos por sentado, a pesar de que se trata de un bien m\\u00e1s escaso y con m\\u00e1s amenazas de lo que podr\\u00edamos pensar.\\r\\nEn el mundo, hoy, la mayor\\u00eda de las personas tienen acceso a agua potable. Sin embargo, seg\\u00fan la Organizaci\\u00f3n Mundial de la Salud, m\\u00e1s de 2000 millones de habitantes consumen a diario agua que tiene el potencial de estar contaminada. La diferencia, en la mayor\\u00eda de los casos, la marca la presencia de sistemas de filtrado, depuraci\\u00f3n y potabilizaci\\u00f3n industriales, as\\u00ed como controles que aseguran que beberla no implica riesgos para la salud.\\r\\nAdem\\u00e1s, siempre existe la posibilidad de instalar purificadores de agua a nivel dom\\u00e9stico. Pero \\u00bfson realmente necesarios en aquellos lugares donde el acceso al agua potable est\\u00e1 garantizado? \\u00bfQu\\u00e9 tipos existen y c\\u00f3mo funcionan? \\u00bfTienen realmente beneficios para la salud y el medioambiente?\\r\\nAgua limpia y saneamiento\\r\\nDurante tres d\\u00edas, diversos distritos de Lima y el Callao tendr\\u00e1n el servicio de agua restringido. Debido a este escenario, los peruanos tienen la oportunidad de reflexionar sobre los cuidados que se le debe dar al agua. A continuaci\\u00f3n, algunos consejos sobre qu\\u00e9 se debe hacer para ahorrarla y qu\\u00e9 trucos hay seguir cuando no se cuenta con muchas reservas.\\r\\n\\u201cLa variedad de part\\u00edculas que pueden ser encontradas dentro del agua de grifo es muy grande. Dependiendo de cada regi\\u00f3n e incluso dentro de la misma provincia puede cambiar notablemente, ya que los acu\\u00edferos y los procesos de tratamiento y transporte son distintos\\u201d, explica Alex Dakov, responsable de la ONG Oceanic Global y CEO de Agua NEA y Green Motive. Lo que s\\u00ed est\\u00e1 claro es que lo que habitualmente llamamos agua es mucho m\\u00e1s que hidr\\u00f3geno y ox\\u00edgeno.\\r\\nEn estado natural, el agua contiene microorganismos y multitud de part\\u00edculas en suspensi\\u00f3n y elementos qu\\u00edmicos disueltos que recoge de su entorno. A ellos se han sumado los micropl\\u00e1sticos, aunque su impacto en la salud todav\\u00eda no se ha logrado determinar. En los pa\\u00edses en los que el acceso al agua potable est\\u00e1 garantizado, se llevan a cabo una serie de procesos de filtrado y desinfecci\\u00f3n para garantizar que la mayor\\u00eda de estos elementos no acabe siendo ingerida. Aun as\\u00ed, existen otras razones por las que se puede querer instalar un filtro en casa.\\r\\n\\u201cCuando hablamos de agua, muchas veces influye un criterio por encima de otros: la percepci\\u00f3n del sabor. Un criterio totalmente subjetivo que cada persona siente o aplica de manera diferente\\u201d, a\\u00f1ade Dakov. \\u201cLas tecnolog\\u00edas de filtrado ayudan a modificar esa percepci\\u00f3n, y por tanto pueden ayudar a beber agua del grifo, pese a no ser necesario desde un punto de vista qu\\u00edmico\\u201d.\\r\\nLa cosa cambia si hablamos de lugares en los que el agua corriente no es potable o ni siquiera existe tal red de agua corriente. Aqu\\u00ed, un filtro puede marcar un antes y un despu\\u00e9s, aunque garantizar la potabilidad, desde un punto de vista qu\\u00edmico y biol\\u00f3gico, es m\\u00e1s complejo que instalar un sistema de filtrado. \\u201cPara muchas comunidades donde el acceso al agua potable es complicado, un filtro puede ser una aut\\u00e9ntica revoluci\\u00f3n. Puede facilitar el acceso a una fuente de vida b\\u00e1sica para el ser humano de una manera econ\\u00f3mica y universal\\u201d, subraya el responsable de Oceanic Global.\\r\\nGesti\\u00f3n del Agua\\r\\nEl agua es un elemento imprescindible para el d\\u00eda a d\\u00eda a cuyo consumo no se le presta la debida atenci\\u00f3n \\u2013salvo en los cada vez m\\u00e1s frecuentes momentos de sequ\\u00eda\\u2013 debido a que su acceso y precio son a\\u00fan muy asequibles para el servicio que presta. El aumento de la concienciaci\\u00f3n ecol\\u00f3gica que se vive de unos a\\u00f1os a esta parte no es, sin embargo, todav\\u00eda suficiente para que los h\\u00e1bitos de los ciudadanos se hayan adecuado a las crecientes necesidades de ahorro de agua que demandan los tiempos que corren. De ah\\u00ed que sea muy oportuno revisar una serie de consejos para controlar la utilizaci\\u00f3n del l\\u00edquido elemento.\\r\\nLos filtros de agua para el hogar han ganado en variedad y eficiencia en los \\u00faltimos a\\u00f1os. Van desde sistemas sencillos para eliminar olores o sabores hasta unidades de desinfecci\\u00f3n o de desmineralizaci\\u00f3n. Estas son las principales tecnolog\\u00edas de filtrado disponibles para uso dom\\u00e9stico en la actualidad, seg\\u00fan el Centro para el Control y la Prevenci\\u00f3n de Enfermedades (CDC) de Estados Unidos.\\r\\nPara elegir filtro, debemos tener en cuenta el tipo de agua de nuestra zona y el prop\\u00f3sito que vamos a darle al agua filtrada. \\u201cCada filtro tiene un uso y unas caracter\\u00edsticas; y no tenerlo en cuenta puede dar lugar a una modificaci\\u00f3n negativa para el agua que se bebe. Por ejemplo, no cambiar un filtro de carbono cuando corresponde, puede acabar contaminando el agua que se est\\u00e1 bebiendo\\u201d, explica Alex Dakov.\\r\\nCada a\\u00f1o generamos m\\u00e1s de 300 millones de toneladas de residuos pl\\u00e1sticos en todo el mundo. La mayor\\u00eda no se recicla (m\\u00e1s de un 80 %) y unos ocho millones de toneladas acaban en los oc\\u00e9anos, seg\\u00fan datos de la agencia medioambiental de la ONU. Cada a\\u00f1o, se producen cerca de 500.000 millones de botellas pl\\u00e1sticas para agua y otras bebidas, la mayor\\u00eda de las cuales acaban en nuestro entorno como basura. En entidades financieras como BBVA, el pl\\u00e1stico es una especie en extinci\\u00f3n.\\r\\nAgua limpia y saneamiento\\r\\nA Rosa Ancco todav\\u00eda le sorprende o\\u00edr en su casa el sonido del agua corriendo. La costumbre no le deja olvidar que hasta hace poco ba\\u00f1aba a sus hijos con botellas de agua caliente. No ha tenido una vida f\\u00e1cil, pero su deseo de darle a su familia un techo digno bajo el que vivir y el apoyo de la Fundaci\\u00f3n Microfinanzas BBVA han sido suficientes para conseguirlo.\\r\\nEl problema de los pl\\u00e1sticos es complejo y atiende a muchas causas, pero la falta de acceso a agua potable es una de ellas. Seg\\u00fan el \\u00faltimo informe de Ocean Panel, mejorar la gesti\\u00f3n del agua y el saneamiento en el mundo es una de las principales l\\u00edneas de acci\\u00f3n para reducir la contaminaci\\u00f3n pl\\u00e1stica (y mejorar la salud global).\\r\\n\\u201cUna de las mayores ventajas que tiene el agua del grifo es que reduce el impacto medioambiental que genera el agua embotellada\\u201d, subraya el CEO de Agua NEA.\\u00a0\\u201cNo solo por la incesante producci\\u00f3n de pl\\u00e1sticos que supone la fabricaci\\u00f3n de las botellas o garrafas, se estima que en el mundo se abren m\\u00e1s de un mill\\u00f3n de botellas de pl\\u00e1stico cada minuto, sino tambi\\u00e9n por los costes medioambientales de su transporte\\u201d.\\r\\nEn este sentido, los filtros de agua y, sobre todo, los aplicados para mejorar la red de agua potable de localidades que dependen en gran medida del agua embotellada, pueden ser una soluci\\u00f3n.\\u00a0 \\u201cUno de los retos a los que la humanidad se enfrentar\\u00e1 en este siglo ser\\u00e1 garantizar el acceso a agua potable para los 8.000 millones de personas que pronto poblaremos el planeta, sin que eso multiplique el problema que tenemos con los pl\\u00e1sticos\\u201d, a\\u00f1ade Dakov.\\r\\nDisponer de una fuente de agua potable en todos los hogares es esencial para la salud humana y del medioambiente. Y disfrutar de agua limpia y desag\\u00fces es un factor m\\u00e1s para luchar contra la desigualdad. En la medida en que reducen la dependencia del agua embotellada, los filtros de agua pueden suponer una de las soluciones a este desaf\\u00edo. Sin embargo, como ya hemos se\\u00f1alado, garantizar la potabilidad del agua desde un punto de vista qu\\u00edmico y biol\\u00f3gico es mucho m\\u00e1s complicado que instalar un filtro en casa.\",\n          \"Los presidentes de Iberia e Iberia Express y el consejero delegado de Cepsa han firmado hoy un acuerdo para avanzar en la descarbonizaci\\u00f3n del sector a\\u00e9reo a trav\\u00e9s del desarrollo e investigaci\\u00f3n de combustibles de origen sostenible y otras alternativas energ\\u00e9ticas como el hidr\\u00f3geno renovable y la electricidad para fomentar la movilidad sostenible de aviones y de la flota de veh\\u00edculos que les prestan servicios en aeropuertos.Para las tres compa\\u00f1\\u00edas el desarrollo de los combustibles de origen sostenible SAF son una prioridad para continuar avanzando hacia una industria cada vez m\\u00e1s baja en carbono y contribuir as\\u00ed a la consecuci\\u00f3n de la Agenda 2030. Este proyecto que contempla la investigaci\\u00f3n y pruebas en vuelo con SAF contribuye a los Objetivos para el Desarrollo Sostenible n\\u00famero 7 Garantizar el acceso a una energ\\u00eda asequible segura sostenible y moderna 8 Promover el crecimiento econ\\u00f3mico inclusivo y sostenible el empleo y el trabajo dignoy 13 adoptar medidas urgentes para combatir el cambio clim\\u00e1tico y sus efectos.Cepsa est\\u00e1 trabajando en un ambicioso plan para dar un giro verde a todos sus negocios y convertirse en un referente de la transici\\u00f3n energ\\u00e9tica en su sector. Adem\\u00e1s la compa\\u00f1\\u00eda cuenta con una amplia experiencia en este \\u00e1mbito lleva m\\u00e1s de 10 a\\u00f1os produciendo biocombustibles en sus centros industriales y desarrolla estudios pioneros a nivel mundial para convertir residuos y aceites usados en combustibles de origen renovable de alto valor energ\\u00e9tico.Para Maarten Wetselaar consejero delegado de Cepsa esta alianza muestra la apuesta de Cepsa por la sostenibilidad y la firme determinaci\\u00f3n de apoyar a nuestros clientes dot\\u00e1ndolos de soluciones viables que aceleren su transici\\u00f3n energ\\u00e9tica. Como referente en el suministro de combustibles para el sector a\\u00e9reo compartimos con el Grupo Iberia el objetivo com\\u00fan de impulsar la descarbonizaci\\u00f3n del transporte como herramienta de lucha contra el cambio clim\\u00e1tico.Como parte del Grupo IAG Iberia e Iberia Express se han comprometido a lograr cero emisiones netas en 2050 y a operar un m\\u00ednimo de un 10 de sus vuelos con combustibles de origen sostenible en 2030.Para la descarbonizaci\\u00f3n del sector a\\u00e9reo es imprescindible el desarrollo producci\\u00f3n y distribuci\\u00f3n de los combustibles de origen sostenible a precios asequibles y en cantidad suficiente para abastecer a las aerol\\u00edneas. Confiamos en que este acuerdo con Cepsa contribuya a ese objetivo ha comentado Javier S\\u00e1nchezPrieto presidente y CEO de Iberia.Combustibles sosteniblesLos biocombustibles para la aviaci\\u00f3n tienen un papel clave en la descarbonizaci\\u00f3n del turismo y del transporte a\\u00e9reo. En comparaci\\u00f3n con el combustible convencional el SAF puede reducir las emisiones de la aviaci\\u00f3n hasta en un 80 respecto al queroseno convencional durante todo su ciclo de vida seg\\u00fan la Asociaci\\u00f3n Internacional de Transporte A\\u00e9reo.Adem\\u00e1s aportan otros beneficios impulsa la econom\\u00eda circular aumenta la independencia energ\\u00e9tica y con ella la seguridad de suministro asegura el mantenimiento de un importante motor de la econom\\u00eda espa\\u00f1ola 200.000 empleos de calidad y puede utilizarse de manera inmediata sin necesidad de renovar la flota y aprovechando las infraestructuras de suministro actuales.Para la consecuci\\u00f3n del objetivo de crecimiento cero de las emisiones de carbono desde 2020 la Asociaci\\u00f3n del Transporte A\\u00e9reo Internacional IATA est\\u00e1 impulsando el uso de biocombustibles sostenibles entre otras iniciativas por su significativa reducci\\u00f3n de CO2.Este acuerdo entre Cepsa y el Grupo Iberia est\\u00e1 en l\\u00ednea con el conjunto de medidas Fit for 55 de la Comisi\\u00f3n Europea que incluye una iniciativa legislativa denominada RefuelEU Aviation que pretende impulsar la oferta y demanda de biocombustibles de aviaci\\u00f3n en la Uni\\u00f3n Europea alcanzando un uso de 2 en 2025 de 5 en 2030 y de 63 en 2050.\"\n        ],\n        \"semantic_type\": \"\",\n        \"description\": \"\"\n      }\n    },\n    {\n      \"column\": \"Type\",\n      \"properties\": {\n        \"dtype\": \"category\",\n        \"num_unique_values\": 7,\n        \"samples\": [\n          \"Otra\",\n          \"Regulaciones\",\n          \"Sostenibilidad\"\n        ],\n        \"semantic_type\": \"\",\n        \"description\": \"\"\n      }\n    }\n  ]\n}"
            }
          },
          "metadata": {},
          "execution_count": 9
        }
      ]
    },
    {
      "cell_type": "code",
      "source": [
        "df['news'][3]"
      ],
      "metadata": {
        "colab": {
          "base_uri": "https://localhost:8080/",
          "height": 243
        },
        "id": "Cw6h7DUqDB9f",
        "outputId": "8c5aa9d5-2bd0-4dee-d3fe-024758fd5e51"
      },
      "execution_count": 10,
      "outputs": [
        {
          "output_type": "execute_result",
          "data": {
            "text/plain": [
              "'Con el dato de marzo el IPC interanual encadena su decimoquinta tasa positiva consecutiva. La inflación publicada por el INE se ha mantenido igual respecto al avance del 30 de marzo y se sitúa 22 puntos por encima del dato de febrero que ascendió al 76.De esos 22 puntos de diferencia la mayor parte la colocó el grupo de la vivienda 09 puntos por la subida de la electricidad y el del transporte 07 puntos por el alza de los carburantes. También impulsaron el IPC de marzo el aumento de los precios de la restauración y los servicios de alojamiento y al encarecimiento generalizado de los alimentos especialmente del pescado y el marisco de la carne de las legumbres y hortalizas y de la leche el queso y los huevos.Sin tener en cuenta la rebaja del impuesto especial sobre la electricidad y las variaciones sobre otros impuestos el IPC interanual alcanzó en marzo 107 nueve décimas más que la tasa general del 98. Así lo refleja el IPC a impuestos constantes que el INE también publica en el marco de esta estadística.La inflación subyacente sin alimentos no elaborados ni productos energéticos aumentó en marzo cuatro décimas hasta 34 su valor más alto desde septiembre de 2008. De este modo la subyacente se sitúa más de seis puntos por debajo de la tasa del IPC general.En el último año la calefacción el alumbrado y la distribución de agua se han encarecido 683 los aceites y grasas han elevado sus precios un 321 y el transporte personal es un 193 más caro por el mayor coste de los carburantes. También registran alzas de dos dígitos los huevos y la leche un 11 más caros que hace un año y la carne de ovino y el pescado fresco y congelado con repuntes del 101 en ambos casos.Cómo están los precios por comunidadesCastillaLa Mancha se situó a la cabeza con una tasa de inflación del 117 seguida de Castilla y León 11 Aragón 107 La Rioja 106 Galicia 105 Extremadura 103 Cantabria 102 y Comunidad Valenciana 102.En el otro las comunidades donde se registraron las menores subidas fueron Canarias 84 Madrid 9 Baleares 94 Asturias 95 País Vasco 95 y Cataluña 95.El IPC dispara su tasa mensual al 3En tasa mensual el IPC registró en marzo un incremento del 3 respecto a febrero su mayor alza mensual en cualquier mes desde 2002 cuando se cambió la metodología de esta estadística para recoger mejor la evolución del mercado. Echando la vista más atrás tomando series anteriores el repunte mensual de marzo es el más elevado desde agosto de 1977.En el tercer mes de 2022 el Índice de Precios de Consumo Armonizado IPCA situó su tasa interanual en 98 más de dos puntos por encima de la de febrero. Por su parte el indicador adelantado del IPCA avanzó un 39 en tasa mensual.'"
            ],
            "application/vnd.google.colaboratory.intrinsic+json": {
              "type": "string"
            }
          },
          "metadata": {},
          "execution_count": 10
        }
      ]
    },
    {
      "cell_type": "code",
      "source": [
        "x = df['news']\n",
        "y = df['Type']"
      ],
      "metadata": {
        "id": "z5aWGRsfDKcI"
      },
      "execution_count": 12,
      "outputs": []
    },
    {
      "cell_type": "code",
      "source": [
        "print(df['Type'].value_counts())"
      ],
      "metadata": {
        "colab": {
          "base_uri": "https://localhost:8080/"
        },
        "id": "3l4BFQULDN6v",
        "outputId": "1f68d023-3e0c-42e9-a711-5456b6009ef2"
      },
      "execution_count": 14,
      "outputs": [
        {
          "output_type": "stream",
          "name": "stdout",
          "text": [
            "Type\n",
            "Macroeconomia     340\n",
            "Alianzas          247\n",
            "Innovacion        195\n",
            "Regulaciones      142\n",
            "Sostenibilidad    137\n",
            "Otra              130\n",
            "Reputacion         26\n",
            "Name: count, dtype: int64\n"
          ]
        }
      ]
    },
    {
      "cell_type": "code",
      "source": [
        "from sklearn.model_selection import train_test_split"
      ],
      "metadata": {
        "id": "wCBapUaqDZlD"
      },
      "execution_count": 15,
      "outputs": []
    },
    {
      "cell_type": "code",
      "source": [
        "x_train, x_test, y_train, y_test = train_test_split(x, y, test_size=0.2)"
      ],
      "metadata": {
        "id": "vdJ2e28xDf2A"
      },
      "execution_count": 16,
      "outputs": []
    },
    {
      "cell_type": "code",
      "source": [
        "x_train"
      ],
      "metadata": {
        "colab": {
          "base_uri": "https://localhost:8080/",
          "height": 458
        },
        "id": "J8EWTK4qDlBQ",
        "outputId": "1b44abe5-50c3-4677-9d18-d372284d3885"
      },
      "execution_count": 18,
      "outputs": [
        {
          "output_type": "execute_result",
          "data": {
            "text/plain": [
              "782     Fuertes ajustes realizó la Reserva Federal de ...\n",
              "146     El robo o extravío de un teléfono móvil no sol...\n",
              "993     Carlos Serrano Herrera economista jefe de BBVA...\n",
              "1134    El factor humano, normalmente identificado com...\n",
              "253     Se acaba de anunciar en los tribunales de Texa...\n",
              "                              ...                        \n",
              "202     Visa anunció una alianza con Minsait Payments ...\n",
              "629     Las acciones de Grupo Televisa tienen el mejor...\n",
              "2       En una industria históricamente masculina como...\n",
              "319     La inflación de Corea del Sur volvió a superar...\n",
              "458     En su último reporte de Índice de Precios al C...\n",
              "Name: news, Length: 973, dtype: object"
            ],
            "text/html": [
              "<div>\n",
              "<style scoped>\n",
              "    .dataframe tbody tr th:only-of-type {\n",
              "        vertical-align: middle;\n",
              "    }\n",
              "\n",
              "    .dataframe tbody tr th {\n",
              "        vertical-align: top;\n",
              "    }\n",
              "\n",
              "    .dataframe thead th {\n",
              "        text-align: right;\n",
              "    }\n",
              "</style>\n",
              "<table border=\"1\" class=\"dataframe\">\n",
              "  <thead>\n",
              "    <tr style=\"text-align: right;\">\n",
              "      <th></th>\n",
              "      <th>news</th>\n",
              "    </tr>\n",
              "  </thead>\n",
              "  <tbody>\n",
              "    <tr>\n",
              "      <th>782</th>\n",
              "      <td>Fuertes ajustes realizó la Reserva Federal de ...</td>\n",
              "    </tr>\n",
              "    <tr>\n",
              "      <th>146</th>\n",
              "      <td>El robo o extravío de un teléfono móvil no sol...</td>\n",
              "    </tr>\n",
              "    <tr>\n",
              "      <th>993</th>\n",
              "      <td>Carlos Serrano Herrera economista jefe de BBVA...</td>\n",
              "    </tr>\n",
              "    <tr>\n",
              "      <th>1134</th>\n",
              "      <td>El factor humano, normalmente identificado com...</td>\n",
              "    </tr>\n",
              "    <tr>\n",
              "      <th>253</th>\n",
              "      <td>Se acaba de anunciar en los tribunales de Texa...</td>\n",
              "    </tr>\n",
              "    <tr>\n",
              "      <th>...</th>\n",
              "      <td>...</td>\n",
              "    </tr>\n",
              "    <tr>\n",
              "      <th>202</th>\n",
              "      <td>Visa anunció una alianza con Minsait Payments ...</td>\n",
              "    </tr>\n",
              "    <tr>\n",
              "      <th>629</th>\n",
              "      <td>Las acciones de Grupo Televisa tienen el mejor...</td>\n",
              "    </tr>\n",
              "    <tr>\n",
              "      <th>2</th>\n",
              "      <td>En una industria históricamente masculina como...</td>\n",
              "    </tr>\n",
              "    <tr>\n",
              "      <th>319</th>\n",
              "      <td>La inflación de Corea del Sur volvió a superar...</td>\n",
              "    </tr>\n",
              "    <tr>\n",
              "      <th>458</th>\n",
              "      <td>En su último reporte de Índice de Precios al C...</td>\n",
              "    </tr>\n",
              "  </tbody>\n",
              "</table>\n",
              "<p>973 rows × 1 columns</p>\n",
              "</div><br><label><b>dtype:</b> object</label>"
            ]
          },
          "metadata": {},
          "execution_count": 18
        }
      ]
    },
    {
      "cell_type": "code",
      "source": [
        "x_test"
      ],
      "metadata": {
        "colab": {
          "base_uri": "https://localhost:8080/",
          "height": 458
        },
        "id": "8CG3JD8EDsnS",
        "outputId": "f765aaf9-84c4-4312-865a-24957272ff13"
      },
      "execution_count": 19,
      "outputs": [
        {
          "output_type": "execute_result",
          "data": {
            "text/plain": [
              "776    Dos marcas colombianas con trayectoria en la c...\n",
              "163    Los bosques tropicales son capaces de regular ...\n",
              "552    Este jueves se conoció que IFC otorgó un prést...\n",
              "26     BBVA cuenta ya en Italia con un total de 108.0...\n",
              "295    Bbva reveló el Consumption Tracker con cierre ...\n",
              "                             ...                        \n",
              "97     El servicio de estudios de BBVA ha revisado a ...\n",
              "977    El crecimiento del PIB en Perú se apoya en la ...\n",
              "797    Resulta indudable que la información es uno de...\n",
              "913    Bbva registró un nuevo récord a través de la a...\n",
              "149    Las energías renovables son aquellas que se ob...\n",
              "Name: news, Length: 244, dtype: object"
            ],
            "text/html": [
              "<div>\n",
              "<style scoped>\n",
              "    .dataframe tbody tr th:only-of-type {\n",
              "        vertical-align: middle;\n",
              "    }\n",
              "\n",
              "    .dataframe tbody tr th {\n",
              "        vertical-align: top;\n",
              "    }\n",
              "\n",
              "    .dataframe thead th {\n",
              "        text-align: right;\n",
              "    }\n",
              "</style>\n",
              "<table border=\"1\" class=\"dataframe\">\n",
              "  <thead>\n",
              "    <tr style=\"text-align: right;\">\n",
              "      <th></th>\n",
              "      <th>news</th>\n",
              "    </tr>\n",
              "  </thead>\n",
              "  <tbody>\n",
              "    <tr>\n",
              "      <th>776</th>\n",
              "      <td>Dos marcas colombianas con trayectoria en la c...</td>\n",
              "    </tr>\n",
              "    <tr>\n",
              "      <th>163</th>\n",
              "      <td>Los bosques tropicales son capaces de regular ...</td>\n",
              "    </tr>\n",
              "    <tr>\n",
              "      <th>552</th>\n",
              "      <td>Este jueves se conoció que IFC otorgó un prést...</td>\n",
              "    </tr>\n",
              "    <tr>\n",
              "      <th>26</th>\n",
              "      <td>BBVA cuenta ya en Italia con un total de 108.0...</td>\n",
              "    </tr>\n",
              "    <tr>\n",
              "      <th>295</th>\n",
              "      <td>Bbva reveló el Consumption Tracker con cierre ...</td>\n",
              "    </tr>\n",
              "    <tr>\n",
              "      <th>...</th>\n",
              "      <td>...</td>\n",
              "    </tr>\n",
              "    <tr>\n",
              "      <th>97</th>\n",
              "      <td>El servicio de estudios de BBVA ha revisado a ...</td>\n",
              "    </tr>\n",
              "    <tr>\n",
              "      <th>977</th>\n",
              "      <td>El crecimiento del PIB en Perú se apoya en la ...</td>\n",
              "    </tr>\n",
              "    <tr>\n",
              "      <th>797</th>\n",
              "      <td>Resulta indudable que la información es uno de...</td>\n",
              "    </tr>\n",
              "    <tr>\n",
              "      <th>913</th>\n",
              "      <td>Bbva registró un nuevo récord a través de la a...</td>\n",
              "    </tr>\n",
              "    <tr>\n",
              "      <th>149</th>\n",
              "      <td>Las energías renovables son aquellas que se ob...</td>\n",
              "    </tr>\n",
              "  </tbody>\n",
              "</table>\n",
              "<p>244 rows × 1 columns</p>\n",
              "</div><br><label><b>dtype:</b> object</label>"
            ]
          },
          "metadata": {},
          "execution_count": 19
        }
      ]
    },
    {
      "cell_type": "code",
      "source": [
        "y_train"
      ],
      "metadata": {
        "colab": {
          "base_uri": "https://localhost:8080/",
          "height": 458
        },
        "id": "-_5fuim7D33U",
        "outputId": "e9bcd610-c78d-4784-92dc-4a949ac35609"
      },
      "execution_count": 20,
      "outputs": [
        {
          "output_type": "execute_result",
          "data": {
            "text/plain": [
              "782     Macroeconomia\n",
              "146        Innovacion\n",
              "993     Macroeconomia\n",
              "1134       Innovacion\n",
              "253      Regulaciones\n",
              "            ...      \n",
              "202          Alianzas\n",
              "629     Macroeconomia\n",
              "2            Alianzas\n",
              "319     Macroeconomia\n",
              "458     Macroeconomia\n",
              "Name: Type, Length: 973, dtype: object"
            ],
            "text/html": [
              "<div>\n",
              "<style scoped>\n",
              "    .dataframe tbody tr th:only-of-type {\n",
              "        vertical-align: middle;\n",
              "    }\n",
              "\n",
              "    .dataframe tbody tr th {\n",
              "        vertical-align: top;\n",
              "    }\n",
              "\n",
              "    .dataframe thead th {\n",
              "        text-align: right;\n",
              "    }\n",
              "</style>\n",
              "<table border=\"1\" class=\"dataframe\">\n",
              "  <thead>\n",
              "    <tr style=\"text-align: right;\">\n",
              "      <th></th>\n",
              "      <th>Type</th>\n",
              "    </tr>\n",
              "  </thead>\n",
              "  <tbody>\n",
              "    <tr>\n",
              "      <th>782</th>\n",
              "      <td>Macroeconomia</td>\n",
              "    </tr>\n",
              "    <tr>\n",
              "      <th>146</th>\n",
              "      <td>Innovacion</td>\n",
              "    </tr>\n",
              "    <tr>\n",
              "      <th>993</th>\n",
              "      <td>Macroeconomia</td>\n",
              "    </tr>\n",
              "    <tr>\n",
              "      <th>1134</th>\n",
              "      <td>Innovacion</td>\n",
              "    </tr>\n",
              "    <tr>\n",
              "      <th>253</th>\n",
              "      <td>Regulaciones</td>\n",
              "    </tr>\n",
              "    <tr>\n",
              "      <th>...</th>\n",
              "      <td>...</td>\n",
              "    </tr>\n",
              "    <tr>\n",
              "      <th>202</th>\n",
              "      <td>Alianzas</td>\n",
              "    </tr>\n",
              "    <tr>\n",
              "      <th>629</th>\n",
              "      <td>Macroeconomia</td>\n",
              "    </tr>\n",
              "    <tr>\n",
              "      <th>2</th>\n",
              "      <td>Alianzas</td>\n",
              "    </tr>\n",
              "    <tr>\n",
              "      <th>319</th>\n",
              "      <td>Macroeconomia</td>\n",
              "    </tr>\n",
              "    <tr>\n",
              "      <th>458</th>\n",
              "      <td>Macroeconomia</td>\n",
              "    </tr>\n",
              "  </tbody>\n",
              "</table>\n",
              "<p>973 rows × 1 columns</p>\n",
              "</div><br><label><b>dtype:</b> object</label>"
            ]
          },
          "metadata": {},
          "execution_count": 20
        }
      ]
    },
    {
      "cell_type": "code",
      "source": [
        "y_test"
      ],
      "metadata": {
        "colab": {
          "base_uri": "https://localhost:8080/",
          "height": 458
        },
        "id": "CJ_cX7bOD6IR",
        "outputId": "60972c53-aad3-4e79-8679-0e0573a816de"
      },
      "execution_count": 21,
      "outputs": [
        {
          "output_type": "execute_result",
          "data": {
            "text/plain": [
              "776          Alianzas\n",
              "163    Sostenibilidad\n",
              "552              Otra\n",
              "26         Innovacion\n",
              "295              Otra\n",
              "            ...      \n",
              "97      Macroeconomia\n",
              "977     Macroeconomia\n",
              "797        Innovacion\n",
              "913              Otra\n",
              "149    Sostenibilidad\n",
              "Name: Type, Length: 244, dtype: object"
            ],
            "text/html": [
              "<div>\n",
              "<style scoped>\n",
              "    .dataframe tbody tr th:only-of-type {\n",
              "        vertical-align: middle;\n",
              "    }\n",
              "\n",
              "    .dataframe tbody tr th {\n",
              "        vertical-align: top;\n",
              "    }\n",
              "\n",
              "    .dataframe thead th {\n",
              "        text-align: right;\n",
              "    }\n",
              "</style>\n",
              "<table border=\"1\" class=\"dataframe\">\n",
              "  <thead>\n",
              "    <tr style=\"text-align: right;\">\n",
              "      <th></th>\n",
              "      <th>Type</th>\n",
              "    </tr>\n",
              "  </thead>\n",
              "  <tbody>\n",
              "    <tr>\n",
              "      <th>776</th>\n",
              "      <td>Alianzas</td>\n",
              "    </tr>\n",
              "    <tr>\n",
              "      <th>163</th>\n",
              "      <td>Sostenibilidad</td>\n",
              "    </tr>\n",
              "    <tr>\n",
              "      <th>552</th>\n",
              "      <td>Otra</td>\n",
              "    </tr>\n",
              "    <tr>\n",
              "      <th>26</th>\n",
              "      <td>Innovacion</td>\n",
              "    </tr>\n",
              "    <tr>\n",
              "      <th>295</th>\n",
              "      <td>Otra</td>\n",
              "    </tr>\n",
              "    <tr>\n",
              "      <th>...</th>\n",
              "      <td>...</td>\n",
              "    </tr>\n",
              "    <tr>\n",
              "      <th>97</th>\n",
              "      <td>Macroeconomia</td>\n",
              "    </tr>\n",
              "    <tr>\n",
              "      <th>977</th>\n",
              "      <td>Macroeconomia</td>\n",
              "    </tr>\n",
              "    <tr>\n",
              "      <th>797</th>\n",
              "      <td>Innovacion</td>\n",
              "    </tr>\n",
              "    <tr>\n",
              "      <th>913</th>\n",
              "      <td>Otra</td>\n",
              "    </tr>\n",
              "    <tr>\n",
              "      <th>149</th>\n",
              "      <td>Sostenibilidad</td>\n",
              "    </tr>\n",
              "  </tbody>\n",
              "</table>\n",
              "<p>244 rows × 1 columns</p>\n",
              "</div><br><label><b>dtype:</b> object</label>"
            ]
          },
          "metadata": {},
          "execution_count": 21
        }
      ]
    },
    {
      "cell_type": "code",
      "source": [
        "from sklearn.feature_extraction.text import CountVectorizer"
      ],
      "metadata": {
        "id": "WnvIDDK6D7iC"
      },
      "execution_count": 22,
      "outputs": []
    },
    {
      "cell_type": "code",
      "source": [
        "vectorize = CountVectorizer()"
      ],
      "metadata": {
        "id": "9aAs3aEAD-eO"
      },
      "execution_count": 23,
      "outputs": []
    },
    {
      "cell_type": "code",
      "source": [
        "x_train_transformed = vectorize.fit_transform(x_train)\n",
        "x_test_transformed = vectorize.transform(x_test)"
      ],
      "metadata": {
        "id": "pDdBSCltECwX"
      },
      "execution_count": 24,
      "outputs": []
    },
    {
      "cell_type": "code",
      "source": [
        "x_train_transformed"
      ],
      "metadata": {
        "colab": {
          "base_uri": "https://localhost:8080/"
        },
        "id": "n1vbKqEPEJH0",
        "outputId": "839a7bb8-2fba-4b62-af05-c441c67d5a5c"
      },
      "execution_count": 25,
      "outputs": [
        {
          "output_type": "execute_result",
          "data": {
            "text/plain": [
              "<Compressed Sparse Row sparse matrix of dtype 'int64'\n",
              "\twith 229232 stored elements and shape (973, 26343)>"
            ]
          },
          "metadata": {},
          "execution_count": 25
        }
      ]
    },
    {
      "cell_type": "code",
      "source": [
        "x_train_transformed_dense = x_train_transformed.toarray()\n",
        "print(x_train_transformed_dense)"
      ],
      "metadata": {
        "colab": {
          "base_uri": "https://localhost:8080/"
        },
        "id": "uy74nirVELvE",
        "outputId": "9c586ad9-ed24-4519-aff2-9ba89674260e"
      },
      "execution_count": 28,
      "outputs": [
        {
          "output_type": "stream",
          "name": "stdout",
          "text": [
            "[[0 0 0 ... 0 0 0]\n",
            " [0 0 0 ... 0 0 0]\n",
            " [0 0 0 ... 0 0 0]\n",
            " ...\n",
            " [0 0 0 ... 0 0 0]\n",
            " [0 0 0 ... 0 0 0]\n",
            " [0 0 0 ... 0 0 0]]\n"
          ]
        }
      ]
    },
    {
      "cell_type": "code",
      "source": [
        "from sklearn.naive_bayes import MultinomialNB\n",
        "from sklearn import metrics"
      ],
      "metadata": {
        "id": "f50DGIz8EWEf"
      },
      "execution_count": 29,
      "outputs": []
    },
    {
      "cell_type": "code",
      "source": [
        "model = MultinomialNB()\n",
        "model.fit(x_train_transformed, y_train)\n",
        "y_pred = model.predict(x_test_transformed)\n",
        "print(metrics.accuracy_score(y_test, y_pred))"
      ],
      "metadata": {
        "colab": {
          "base_uri": "https://localhost:8080/"
        },
        "id": "cUdhnvZTEna5",
        "outputId": "65b3d106-fa55-4a2b-c071-3ec9d7cac09b"
      },
      "execution_count": 30,
      "outputs": [
        {
          "output_type": "stream",
          "name": "stdout",
          "text": [
            "0.7909836065573771\n"
          ]
        }
      ]
    },
    {
      "cell_type": "markdown",
      "source": [
        "# Stemming\n"
      ],
      "metadata": {
        "id": "bzbI8-r7E9c5"
      }
    },
    {
      "cell_type": "code",
      "source": [
        "import nltk\n",
        "from nltk.tokenize import word_tokenize\n",
        "from nltk.corpus import stopwords\n",
        "from nltk.stem import SnowballStemmer"
      ],
      "metadata": {
        "id": "L-XI39ISExKP"
      },
      "execution_count": 31,
      "outputs": []
    },
    {
      "cell_type": "code",
      "source": [
        "nltk.download('punkt')\n",
        "nltk.download('stopwords')"
      ],
      "metadata": {
        "colab": {
          "base_uri": "https://localhost:8080/"
        },
        "id": "RZXQ5PNXFLd3",
        "outputId": "3cefa055-d5e5-4ff1-f598-d73c29487913"
      },
      "execution_count": 38,
      "outputs": [
        {
          "output_type": "stream",
          "name": "stderr",
          "text": [
            "[nltk_data] Downloading package punkt to /root/nltk_data...\n",
            "[nltk_data]   Package punkt is already up-to-date!\n",
            "[nltk_data] Downloading package stopwords to /root/nltk_data...\n",
            "[nltk_data]   Package stopwords is already up-to-date!\n"
          ]
        },
        {
          "output_type": "execute_result",
          "data": {
            "text/plain": [
              "True"
            ]
          },
          "metadata": {},
          "execution_count": 38
        }
      ]
    },
    {
      "cell_type": "code",
      "source": [
        "stemmer = SnowballStemmer('spanish')"
      ],
      "metadata": {
        "id": "bgI7PLVzFPJ5"
      },
      "execution_count": 39,
      "outputs": []
    },
    {
      "cell_type": "code",
      "source": [
        "def tokenize_and_stem(text):\n",
        "    tokens = word_tokenize(text)\n",
        "    stems = [stemmer.stem(token) for token in tokens if token.isalpha()]\n",
        "    return ' '.join(stems)"
      ],
      "metadata": {
        "id": "L1lvRTq7FSXg"
      },
      "execution_count": 49,
      "outputs": []
    },
    {
      "cell_type": "code",
      "source": [
        "import nltk\n",
        "nltk.download('punkt')\n",
        "nltk.download('punkt_tab')"
      ],
      "metadata": {
        "colab": {
          "base_uri": "https://localhost:8080/"
        },
        "id": "aQMi8olIGW3W",
        "outputId": "6ed8ce01-41c1-418f-a667-b6ac5c015036"
      },
      "execution_count": 53,
      "outputs": [
        {
          "output_type": "stream",
          "name": "stderr",
          "text": [
            "[nltk_data] Downloading package punkt to /root/nltk_data...\n",
            "[nltk_data]   Package punkt is already up-to-date!\n",
            "[nltk_data] Downloading package punkt_tab to /root/nltk_data...\n",
            "[nltk_data]   Unzipping tokenizers/punkt_tab.zip.\n"
          ]
        },
        {
          "output_type": "execute_result",
          "data": {
            "text/plain": [
              "True"
            ]
          },
          "metadata": {},
          "execution_count": 53
        }
      ]
    },
    {
      "cell_type": "code",
      "source": [
        "df['new_stemmer'] = df['news'].apply(tokenize_and_stem)"
      ],
      "metadata": {
        "id": "fMTkrSNCFswx"
      },
      "execution_count": 54,
      "outputs": []
    },
    {
      "cell_type": "code",
      "source": [
        "df['new_stemmer'][3]"
      ],
      "metadata": {
        "colab": {
          "base_uri": "https://localhost:8080/",
          "height": 243
        },
        "id": "J_9naAfHHK8X",
        "outputId": "14858c94-b7ec-4113-a0b7-00fe1b8ccd84"
      },
      "execution_count": 56,
      "outputs": [
        {
          "output_type": "execute_result",
          "data": {
            "text/plain": [
              "'con el dat de marz el ipc interanual encaden su decimoquint tas posit consecut la inflacion public por el ine se ha manten igual respect al avanc del de marz y se situ punt por encim del dat de febrer que ascend al esos punt de diferent la mayor part la coloc el grup de la viviend punt por la sub de la electr y el del transport punt por el alza de los carbur tambien impuls el ipc de marz el aument de los preci de la restaur y los servici de aloj y al encarec generaliz de los aliment especial del pesc y el marisc de la carn de las legumbr y hortaliz y de la lech el ques y los ten en cuent la rebaj del impuest especial sobr la electr y las variacion sobr otros impuest el ipc interanual alcanz en marz nuev decim mas que la tas general del asi lo reflej el ipc a impuest constant que el ine tambien public en el marc de esta inflacion subyacent sin aliment no elabor ni product energet aument en marz cuatr decim hast su valor mas alto desd septiembr de de este mod la subyacent se situ mas de seis punt por debaj de la tas del ipc el ultim año la calefaccion el alumbr y la distribu de agu se han encarec los aceit y gras han elev sus preci un y el transport personal es un mas car por el mayor cost de los carbur tambien registr alzas de dos digit los huev y la lech un mas car que hac un año y la carn de ovin y el pesc fresc y congel con repunt del en ambos estan los preci por comunidadescastillal manch se situ a la cabez con una tas de inflacion del segu de castill y leon aragon la rioj galici extremadur cantabri y comun valencian el otro las comun dond se registr las menor sub fueron canari madr balear asturi pais vasc y cataluñ ipc disp su tas mensual al tas mensual el ipc registr en marz un increment del respect a febrer su mayor alza mensual en cualqui mes desd cuand se camb la metodolog de esta estadist par recog mejor la evolu del merc echand la vist mas atras tom seri anterior el repunt mensual de marz es el mas elev desd agost de el terc mes de el indic de preci de consum armoniz ipca situ su tas interanual en mas de dos punt por encim de la de febrer por su part el indic adelant del ipca avanz un en tas mensual'"
            ],
            "application/vnd.google.colaboratory.intrinsic+json": {
              "type": "string"
            }
          },
          "metadata": {},
          "execution_count": 56
        }
      ]
    },
    {
      "cell_type": "code",
      "source": [
        "# Separamos los datos en varaibles de entrada y de etiqueta\n",
        "X = df['new_stemmer']\n",
        "y = df['Type']\n",
        "x_train, X_test, y_train, y_test = train_test_split(X, y, test_size=0.2)\n",
        "\n",
        "vectorize = CountVectorizer()\n",
        "x_train_transformed = vectorize.fit_transform(x_train)\n",
        "x_test_transformed = vectorize.transform(X_test)\n",
        "\n",
        "model = MultinomialNB()\n",
        "model.fit(x_train_transformed, y_train)\n",
        "\n",
        "# Medimos el rendimiento dewl modelo\n",
        "y_pred = model.predict(x_test_transformed)\n",
        "print(metrics.accuracy_score(y_test, y_pred))"
      ],
      "metadata": {
        "colab": {
          "base_uri": "https://localhost:8080/"
        },
        "id": "9wTXSA8dGB_Z",
        "outputId": "16ec3a7f-5474-46a0-a2a7-9bfa64b5c285"
      },
      "execution_count": 57,
      "outputs": [
        {
          "output_type": "stream",
          "name": "stdout",
          "text": [
            "0.8401639344262295\n"
          ]
        }
      ]
    },
    {
      "cell_type": "code",
      "source": [
        "x_train_transformed"
      ],
      "metadata": {
        "colab": {
          "base_uri": "https://localhost:8080/"
        },
        "id": "3Jj9b4xWIqY7",
        "outputId": "7a8af2fb-4e35-497f-8906-48ba2a9e8b34"
      },
      "execution_count": 58,
      "outputs": [
        {
          "output_type": "execute_result",
          "data": {
            "text/plain": [
              "<Compressed Sparse Row sparse matrix of dtype 'int64'\n",
              "\twith 199760 stored elements and shape (973, 11999)>"
            ]
          },
          "metadata": {},
          "execution_count": 58
        }
      ]
    },
    {
      "cell_type": "markdown",
      "source": [
        "# Lemmatization"
      ],
      "metadata": {
        "id": "LiDuDn4qIydV"
      }
    },
    {
      "cell_type": "code",
      "source": [
        "import spacy"
      ],
      "metadata": {
        "id": "dNMu19Y5Ixbm"
      },
      "execution_count": 59,
      "outputs": []
    },
    {
      "cell_type": "code",
      "source": [
        "!python -m spacy download es_core_news_sm"
      ],
      "metadata": {
        "colab": {
          "base_uri": "https://localhost:8080/"
        },
        "id": "IDJPwoiNJjcu",
        "outputId": "b334d1ef-8e9c-454e-d86f-0b587910472e"
      },
      "execution_count": 65,
      "outputs": [
        {
          "output_type": "stream",
          "name": "stdout",
          "text": [
            "Collecting es-core-news-sm==3.8.0\n",
            "  Downloading https://github.com/explosion/spacy-models/releases/download/es_core_news_sm-3.8.0/es_core_news_sm-3.8.0-py3-none-any.whl (12.9 MB)\n",
            "\u001b[2K     \u001b[90m━━━━━━━━━━━━━━━━━━━━━━━━━━━━━━━━━━━━━━━━\u001b[0m \u001b[32m12.9/12.9 MB\u001b[0m \u001b[31m31.7 MB/s\u001b[0m eta \u001b[36m0:00:00\u001b[0m\n",
            "\u001b[?25hInstalling collected packages: es-core-news-sm\n",
            "Successfully installed es-core-news-sm-3.8.0\n",
            "\u001b[38;5;2m✔ Download and installation successful\u001b[0m\n",
            "You can now load the package via spacy.load('es_core_news_sm')\n",
            "\u001b[38;5;3m⚠ Restart to reload dependencies\u001b[0m\n",
            "If you are in a Jupyter or Colab notebook, you may need to restart Python in\n",
            "order to load all the package's dependencies. You can do this by selecting the\n",
            "'Restart kernel' or 'Restart runtime' option.\n"
          ]
        }
      ]
    },
    {
      "cell_type": "code",
      "source": [
        "nlp = spacy.load('es_core_news_sm')"
      ],
      "metadata": {
        "id": "_TVZgNL1I4Rg"
      },
      "execution_count": 66,
      "outputs": []
    },
    {
      "cell_type": "code",
      "source": [
        "def lematize_text(text):\n",
        "    doc = nlp(text)\n",
        "    lemmas = [token.lemma_ for token in doc if token.is_alpha]\n",
        "    return ' '.join([token.lemma_ for token in doc])"
      ],
      "metadata": {
        "id": "VTqQv4OHJtC2"
      },
      "execution_count": 67,
      "outputs": []
    },
    {
      "cell_type": "code",
      "source": [
        "df['new_lemma'] = df['news'].apply(lematize_text)"
      ],
      "metadata": {
        "id": "xR0W9jM8Jn6_"
      },
      "execution_count": 70,
      "outputs": []
    },
    {
      "cell_type": "code",
      "source": [
        "df['new_lemma']"
      ],
      "metadata": {
        "colab": {
          "base_uri": "https://localhost:8080/",
          "height": 458
        },
        "id": "rRzf1xwsJ13M",
        "outputId": "2426190d-8524-4f0b-da89-aa8b413576d5"
      },
      "execution_count": 71,
      "outputs": [
        {
          "output_type": "execute_result",
          "data": {
            "text/plain": [
              "0       durante el foro el banca articulador empresari...\n",
              "1       el regulador de valor de China decir el doming...\n",
              "2       en uno industria históricamente masculino como...\n",
              "3       con el dato de marzo el IPC interanual encaden...\n",
              "4       ayer en Cartagena él dar inicio a el versión n...\n",
              "                              ...                        \n",
              "1212    en el vida de todo empresa emergente llegar un...\n",
              "1213    el espiral alcista de el precio continuar y ge...\n",
              "1214    el grande derrota nacional ser experiencia tra...\n",
              "1215    BBVA haber alcanzar uno acuerdo de colaboració...\n",
              "1216    casi entrar a el parte final de noviembre el é...\n",
              "Name: new_lemma, Length: 1217, dtype: object"
            ],
            "text/html": [
              "<div>\n",
              "<style scoped>\n",
              "    .dataframe tbody tr th:only-of-type {\n",
              "        vertical-align: middle;\n",
              "    }\n",
              "\n",
              "    .dataframe tbody tr th {\n",
              "        vertical-align: top;\n",
              "    }\n",
              "\n",
              "    .dataframe thead th {\n",
              "        text-align: right;\n",
              "    }\n",
              "</style>\n",
              "<table border=\"1\" class=\"dataframe\">\n",
              "  <thead>\n",
              "    <tr style=\"text-align: right;\">\n",
              "      <th></th>\n",
              "      <th>new_lemma</th>\n",
              "    </tr>\n",
              "  </thead>\n",
              "  <tbody>\n",
              "    <tr>\n",
              "      <th>0</th>\n",
              "      <td>durante el foro el banca articulador empresari...</td>\n",
              "    </tr>\n",
              "    <tr>\n",
              "      <th>1</th>\n",
              "      <td>el regulador de valor de China decir el doming...</td>\n",
              "    </tr>\n",
              "    <tr>\n",
              "      <th>2</th>\n",
              "      <td>en uno industria históricamente masculino como...</td>\n",
              "    </tr>\n",
              "    <tr>\n",
              "      <th>3</th>\n",
              "      <td>con el dato de marzo el IPC interanual encaden...</td>\n",
              "    </tr>\n",
              "    <tr>\n",
              "      <th>4</th>\n",
              "      <td>ayer en Cartagena él dar inicio a el versión n...</td>\n",
              "    </tr>\n",
              "    <tr>\n",
              "      <th>...</th>\n",
              "      <td>...</td>\n",
              "    </tr>\n",
              "    <tr>\n",
              "      <th>1212</th>\n",
              "      <td>en el vida de todo empresa emergente llegar un...</td>\n",
              "    </tr>\n",
              "    <tr>\n",
              "      <th>1213</th>\n",
              "      <td>el espiral alcista de el precio continuar y ge...</td>\n",
              "    </tr>\n",
              "    <tr>\n",
              "      <th>1214</th>\n",
              "      <td>el grande derrota nacional ser experiencia tra...</td>\n",
              "    </tr>\n",
              "    <tr>\n",
              "      <th>1215</th>\n",
              "      <td>BBVA haber alcanzar uno acuerdo de colaboració...</td>\n",
              "    </tr>\n",
              "    <tr>\n",
              "      <th>1216</th>\n",
              "      <td>casi entrar a el parte final de noviembre el é...</td>\n",
              "    </tr>\n",
              "  </tbody>\n",
              "</table>\n",
              "<p>1217 rows × 1 columns</p>\n",
              "</div><br><label><b>dtype:</b> object</label>"
            ]
          },
          "metadata": {},
          "execution_count": 71
        }
      ]
    },
    {
      "cell_type": "code",
      "source": [
        "df['new_lemma'][3]"
      ],
      "metadata": {
        "colab": {
          "base_uri": "https://localhost:8080/",
          "height": 243
        },
        "id": "giKs0qirKAy3",
        "outputId": "a9f1dae6-8e8e-43d3-b2e9-c1fda5a3ee85"
      },
      "execution_count": 72,
      "outputs": [
        {
          "output_type": "execute_result",
          "data": {
            "text/plain": [
              "'con el dato de marzo el IPC interanual encadenar su decimoquinto tasa positivo consecutivo . el inflación publicado por el INE él haber mantener igual respecto al avance del 30 de marzo y él situar 22 punto por encima del dato de febrero que ascender al 76.de ese 22 punto de diferencia el mayor parte él colocar el grupo de el vivienda 09 punto por el subida de el electricidad y el del transporte 07 punto por el alza de el carburante . también impulsar el IPC de marzo el aumento de el precio de el restauración y el servicio de alojamiento y al encarecimiento generalizado de el alimento especialmente del pescado y el marisco de el carne de el legumbr y hortaliza y de el leche el queso y el huevo . sin tener en cuenta el rebaja del impuesto especial sobre el electricidad y el variación sobre otro impuesto el IPC interanual alcanzar en marzo 107 nueve décima más que el tasa general del 98 . así él reflejar el IPC a impuesto constante que el INE también publicar en el marco de este estadística . el inflación subyacente sin alimento no elaborado ni producto energético aumentar en marzo cuatro décima hasta 34 su valor más alto desde septiembre de 2008 . de este modo el subyacente él situar más de seis punto por debajo de el tasa del IPC general . en el último año el calefacción el alumbrado y el distribución de agua él haber encarecer 683 el aceite y grasa haber elevar su precio uno 321 y el transporte personal ser uno 193 más caro por el mayor coste de el carburante . también registrar alza de dos dígito el huevo y el leche uno 11 más caro que hacer uno año y el carne de ovino y el pescado fresco y congelado con repunte del 101 en ambos caso . cómo estar el precio por comunidadesCastillaLa Mancha él situar a el cabeza con uno tasa de inflación del 117 seguida de Castilla y León 11 Aragón 107 el Rioja 106 Galicia 105 Extremadura 103 Cantabria 102 y Comunidad Valenciana 102.En el otro el comunidad donde él registrar el menor subida ser Canarias 84 Madrid 9 Baleares 94 Asturias 95 País Vasco 95 y Cataluña 95.el IPC disparar su tasa mensual al 3en tasa mensual el IPC registrar en marzo uno incremento del 3 respecto a febrero su mayor alza mensual en cualquiera mes desde 2002 cuando él cambiar el metodología de este estadística para recoger mejor el evolución del mercado . echar el vista más atrás tomar serie anterior el repunte mensual de marzo ser el más elevado desde agosto de 1977.en el tercer mes de 2022 el Índice de Precios de Consumo Armonizado IPCA situar su tasa interanual en 98 más de dos punto por encima de el de febrero . por su parte el indicador adelantado del IPCA avanzar uno 39 en tasa mensual .'"
            ],
            "application/vnd.google.colaboratory.intrinsic+json": {
              "type": "string"
            }
          },
          "metadata": {},
          "execution_count": 72
        }
      ]
    },
    {
      "cell_type": "code",
      "source": [
        "# Separamos los datos en varaibles de entrada y de etiqueta\n",
        "X = df['new_lemma']\n",
        "y = df['Type']\n",
        "x_train, X_test, y_train, y_test = train_test_split(X, y, test_size=0.2)\n",
        "\n",
        "vectorize = CountVectorizer()\n",
        "x_train_transformed = vectorize.fit_transform(x_train)\n",
        "x_test_transformed = vectorize.transform(X_test)\n",
        "\n",
        "model = MultinomialNB()\n",
        "model.fit(x_train_transformed, y_train)\n",
        "\n",
        "# Medimos el rendimiento dewl modelo\n",
        "y_pred = model.predict(x_test_transformed)\n",
        "print(metrics.accuracy_score(y_test, y_pred))"
      ],
      "metadata": {
        "colab": {
          "base_uri": "https://localhost:8080/"
        },
        "id": "LK8Xn7gRKzn4",
        "outputId": "03a49c92-939f-47fe-d3e2-92352cba8a1c"
      },
      "execution_count": 73,
      "outputs": [
        {
          "output_type": "stream",
          "name": "stdout",
          "text": [
            "0.8114754098360656\n"
          ]
        }
      ]
    },
    {
      "cell_type": "code",
      "source": [
        "x_train_transformed"
      ],
      "metadata": {
        "colab": {
          "base_uri": "https://localhost:8080/"
        },
        "id": "U0jr0BPXLDkm",
        "outputId": "fb4003b2-0d6f-4423-b04f-15e5550d568f"
      },
      "execution_count": 74,
      "outputs": [
        {
          "output_type": "execute_result",
          "data": {
            "text/plain": [
              "<Compressed Sparse Row sparse matrix of dtype 'int64'\n",
              "\twith 209167 stored elements and shape (973, 19423)>"
            ]
          },
          "metadata": {},
          "execution_count": 74
        }
      ]
    },
    {
      "cell_type": "code",
      "source": [],
      "metadata": {
        "id": "P0jSTD8fLOBV"
      },
      "execution_count": null,
      "outputs": []
    }
  ]
}