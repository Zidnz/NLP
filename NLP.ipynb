{
  "nbformat": 4,
  "nbformat_minor": 0,
  "metadata": {
    "colab": {
      "provenance": []
    },
    "kernelspec": {
      "name": "python3",
      "display_name": "Python 3"
    },
    "language_info": {
      "name": "python"
    }
  },
  "cells": [
    {
      "cell_type": "code",
      "execution_count": 1,
      "metadata": {
        "id": "N_1QZzrLxIHn"
      },
      "outputs": [],
      "source": [
        "texto = \"El gato es negro y el perro es blanco\""
      ]
    },
    {
      "cell_type": "code",
      "source": [
        "texto = texto.lower()"
      ],
      "metadata": {
        "id": "jZQRIOdg31k7"
      },
      "execution_count": 9,
      "outputs": []
    },
    {
      "cell_type": "code",
      "source": [
        "import nltk\n",
        "nltk.download('punkt')\n",
        "nltk.download('stopwords')"
      ],
      "metadata": {
        "colab": {
          "base_uri": "https://localhost:8080/"
        },
        "id": "i8iIPpLAxL71",
        "outputId": "dc452d93-78ed-4adb-be6a-074742d08125"
      },
      "execution_count": 2,
      "outputs": [
        {
          "output_type": "stream",
          "name": "stderr",
          "text": [
            "[nltk_data] Downloading package punkt to /root/nltk_data...\n",
            "[nltk_data]   Package punkt is already up-to-date!\n",
            "[nltk_data] Downloading package stopwords to /root/nltk_data...\n",
            "[nltk_data]   Package stopwords is already up-to-date!\n"
          ]
        },
        {
          "output_type": "execute_result",
          "data": {
            "text/plain": [
              "True"
            ]
          },
          "metadata": {},
          "execution_count": 2
        }
      ]
    },
    {
      "cell_type": "code",
      "source": [
        "from nltk.corpus import stopwords\n",
        "from nltk.tokenize import word_tokenize"
      ],
      "metadata": {
        "id": "qJoaOA5YxPQj"
      },
      "execution_count": 3,
      "outputs": []
    },
    {
      "cell_type": "code",
      "source": [
        "stop_words = set(stopwords.words('spanish'))\n",
        "print(stop_words)"
      ],
      "metadata": {
        "colab": {
          "base_uri": "https://localhost:8080/"
        },
        "id": "r-6LuVKpxSWt",
        "outputId": "eab00400-00b6-4aaa-90a3-1d04506e14ab"
      },
      "execution_count": 4,
      "outputs": [
        {
          "output_type": "stream",
          "name": "stdout",
          "text": [
            "{'eran', 'esta', 'o', 'estás', 'sí', 'fueras', 'tuvieran', 'habrías', 'habré', 'estabas', 'tengo', 'qué', 'tuve', 'antes', 'mis', 'desde', 'tuvierais', 'hubieras', 'otra', 'suyas', 'a', 'tengan', 'tenido', 'nos', 'habréis', 'seríais', 'será', 'eso', 'es', 'he', 'fuesen', 'estad', 'mío', 'tendría', 'hube', 'las', 'habríamos', 'hubiesen', 'estéis', 'sentida', 'tus', 'poco', 'por', 'mucho', 'seremos', 'estuve', 'más', 'fui', 'hubieseis', 'tiene', 'habríais', 'habían', 'tuviesen', 'cual', 'sin', 'para', 'nada', 'habías', 'estabais', 'hubiésemos', 'mía', 'todos', 'mí', 'estemos', 'hayas', 'habíais', 'fuerais', 'estados', 'estuviéramos', 'nuestros', 'porque', 'donde', 'eres', 'tendrá', 'muy', 'estos', 'tendré', 'me', 'tenidos', 'él', 'fuimos', 'habría', 'esa', 'esto', 'tuvieseis', 'sea', 'haya', 'fuese', 'sentidas', 'estaré', 'hubo', 'nuestro', 'teníamos', 'yo', 'seáis', 'fuisteis', 'estuvierais', 'tenía', 'estuvo', 'e', 'nuestra', 'estadas', 'otras', 'habéis', 'estuvieran', 'esos', 'tenemos', 'sus', 'ya', 'hubiéramos', 'somos', 'tanto', 'lo', 'hemos', 'tienen', 'estoy', 'estaríamos', 'tuviste', 'estamos', 'estuvieseis', 'han', 'hayamos', 'cuando', 'estuvisteis', 'mías', 'tendrán', 'tuvieses', 'habíamos', 'teniendo', 'ellos', 'algunos', 'ha', 'habrían', 'suyos', 'habrá', 'muchos', 'ella', 'no', 'habidas', 'son', 'éramos', 'les', 'eras', 'serías', 'estaba', 'ante', 'estaréis', 'estés', 'fuera', 'sería', 'una', 'un', 'con', 'estas', 'hayan', 'sois', 'mi', 'algo', 'tened', 'otros', 'estuviésemos', 'hubierais', 'habiendo', 'fue', 'tendrás', 'esas', 'tu', 'habida', 'hubieron', 'seamos', 'hubieran', 'habrás', 'tendríamos', 'esté', 'otro', 'vuestros', 'tú', 'uno', 'estarías', 'hubiste', 'tenías', 'sentidos', 'tuvisteis', 'estuviese', 'os', 'tuyos', 'tengamos', 'contra', 'habidos', 'seréis', 'tuya', 'sintiendo', 'nuestras', 'estando', 'tuvieras', 'había', 'estarían', 'hubimos', 'y', 'erais', 'ti', 'tenían', 'sobre', 'estada', 'fuésemos', 'hubisteis', 'fueseis', 'ese', 'hayáis', 'tuyo', 'tuvieron', 'tendremos', 'suyo', 'su', 'algunas', 'tuvo', 'estáis', 'le', 'tendrían', 'estará', 'se', 'también', 'serían', 'estuviesen', 'estén', 'los', 'estuvieses', 'hay', 'seas', 'fuéramos', 'hubiese', 'tengáis', 'míos', 'tuviéramos', 'vosotras', 'de', 'fueses', 'serán', 'estaban', 'habido', 'estaríais', 'seríamos', 'has', 'habremos', 'estaremos', 'te', 'tenidas', 'seré', 'estado', 'soy', 'estuviste', 'tenga', 'vosotros', 'nosotras', 'estaría', 'ni', 'tienes', 'tuviera', 'quienes', 'ellas', 'sentido', 'unos', 'serás', 'tendrías', 'estuvieron', 'todo', 'estuviera', 'fuiste', 'vuestro', 'como', 'durante', 'hasta', 'habrán', 'hubieses', 'hubiera', 'fueran', 'estuvieras', 'que', 'quien', 'era', 'tuyas', 'pero', 'tengas', 'está', 'estar', 'sentid', 'teníais', 'vuestras', 'vuestra', 'fueron', 'tendréis', 'tuvimos', 'suya', 'nosotros', 'tenida', 'estuvimos', 'estábamos', 'siente', 'la', 'tenéis', 'al', 'el', 'tuviésemos', 'tendríais', 'en', 'entre', 'están', 'tuviese', 'del', 'estarás', 'estarán', 'este', 'sean'}\n"
          ]
        }
      ]
    },
    {
      "cell_type": "code",
      "source": [
        "nltk.download('punkt')"
      ],
      "metadata": {
        "id": "RzLR5vDCxpn9",
        "outputId": "6fdae653-55b6-4280-c3ce-9499ee3b994d",
        "colab": {
          "base_uri": "https://localhost:8080/"
        }
      },
      "execution_count": 5,
      "outputs": [
        {
          "output_type": "stream",
          "name": "stderr",
          "text": [
            "[nltk_data] Downloading package punkt to /root/nltk_data...\n",
            "[nltk_data]   Package punkt is already up-to-date!\n"
          ]
        },
        {
          "output_type": "execute_result",
          "data": {
            "text/plain": [
              "True"
            ]
          },
          "metadata": {},
          "execution_count": 5
        }
      ]
    },
    {
      "cell_type": "code",
      "source": [
        "from nltk.tokenize import TreebankWordTokenizer\n",
        "\n",
        "tokenizer = TreebankWordTokenizer()\n",
        "tokens = tokenizer.tokenize(texto)\n",
        "print(tokens)\n"
      ],
      "metadata": {
        "colab": {
          "base_uri": "https://localhost:8080/"
        },
        "id": "i7sXsAxqxVK5",
        "outputId": "1db23438-04da-4b74-ef3c-24c57f14b2db"
      },
      "execution_count": 10,
      "outputs": [
        {
          "output_type": "stream",
          "name": "stdout",
          "text": [
            "['el', 'gato', 'es', 'negro', 'y', 'el', 'perro', 'es', 'blanco']\n"
          ]
        }
      ]
    },
    {
      "cell_type": "code",
      "source": [
        "texto_filtrado = [ word for word in tokens if not word in stop_words]"
      ],
      "metadata": {
        "id": "bQ7orGUL3ok4"
      },
      "execution_count": 12,
      "outputs": []
    },
    {
      "cell_type": "code",
      "source": [
        "print(texto_filtrado)"
      ],
      "metadata": {
        "colab": {
          "base_uri": "https://localhost:8080/"
        },
        "id": "fLf2Kj9p3xWI",
        "outputId": "cecdfc5d-9aa2-4f02-b029-e7c36ea597da"
      },
      "execution_count": 13,
      "outputs": [
        {
          "output_type": "stream",
          "name": "stdout",
          "text": [
            "['gato', 'negro', 'perro', 'blanco']\n"
          ]
        }
      ]
    },
    {
      "cell_type": "code",
      "source": [
        "from nltk.stem import SnowballStemmer\n",
        "\n",
        "#Crear el Stemmer en español\n",
        "stemmer = SnowballStemmer('spanish')\n",
        "\n",
        "#Probar con la palabra \"Caminar\"\n",
        "print(stemmer.stem('caminando'))\n",
        "print(stemmer.stem('caminar'))\n",
        "print(stemmer.stem('caminó'))"
      ],
      "metadata": {
        "colab": {
          "base_uri": "https://localhost:8080/"
        },
        "id": "K_og_7od37TE",
        "outputId": "9074998a-13d2-48d8-eafe-768219f5ee0b"
      },
      "execution_count": 14,
      "outputs": [
        {
          "output_type": "stream",
          "name": "stdout",
          "text": [
            "camin\n",
            "camin\n",
            "camin\n"
          ]
        }
      ]
    },
    {
      "cell_type": "code",
      "source": [
        "pip install spacy -q"
      ],
      "metadata": {
        "id": "0RYGNzGC38VU"
      },
      "execution_count": 15,
      "outputs": []
    },
    {
      "cell_type": "code",
      "source": [
        "!python -m spacy download es_core_news_sm -q"
      ],
      "metadata": {
        "colab": {
          "base_uri": "https://localhost:8080/"
        },
        "id": "yz0PmkBM3-h-",
        "outputId": "4b131763-dfc0-496c-a005-43798445b1e8"
      },
      "execution_count": 18,
      "outputs": [
        {
          "output_type": "stream",
          "name": "stdout",
          "text": [
            "\u001b[2K     \u001b[90m━━━━━━━━━━━━━━━━━━━━━━━━━━━━━━━━━━━━━━━━\u001b[0m \u001b[32m12.9/12.9 MB\u001b[0m \u001b[31m62.5 MB/s\u001b[0m eta \u001b[36m0:00:00\u001b[0m\n",
            "\u001b[?25h\u001b[38;5;2m✔ Download and installation successful\u001b[0m\n",
            "You can now load the package via spacy.load('es_core_news_sm')\n",
            "\u001b[38;5;3m⚠ Restart to reload dependencies\u001b[0m\n",
            "If you are in a Jupyter or Colab notebook, you may need to restart Python in\n",
            "order to load all the package's dependencies. You can do this by selecting the\n",
            "'Restart kernel' or 'Restart runtime' option.\n"
          ]
        }
      ]
    },
    {
      "cell_type": "code",
      "source": [
        "import spacy\n",
        "nlp = spacy.load('es_core_news_sm')\n",
        "\n",
        "doc = nlp(\"Caminar caminando caminó\")\n",
        "\n",
        "for tok in doc:\n",
        "  print(tok.text, \"->\", tok.lemma_)"
      ],
      "metadata": {
        "colab": {
          "base_uri": "https://localhost:8080/"
        },
        "id": "tnDhO3cs4DtB",
        "outputId": "b06d6097-d832-4d4e-b683-4cfd75174991"
      },
      "execution_count": 19,
      "outputs": [
        {
          "output_type": "stream",
          "name": "stdout",
          "text": [
            "Caminar -> Caminar\n",
            "caminando -> caminar\n",
            "caminó -> caminar\n"
          ]
        }
      ]
    },
    {
      "cell_type": "code",
      "source": [],
      "metadata": {
        "id": "yU9YEoM-8L53"
      },
      "execution_count": null,
      "outputs": []
    }
  ]
}